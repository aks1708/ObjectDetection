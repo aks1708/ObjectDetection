{
 "cells": [
  {
   "cell_type": "code",
   "execution_count": null,
   "id": "975bf3f7-24d4-4d5b-8d50-f55e1d42d966",
   "metadata": {},
   "outputs": [],
   "source": [
    "from ultralytics import YOLO"
   ]
  },
  {
   "cell_type": "code",
   "execution_count": null,
   "id": "49c37721-9d73-4f06-bb2a-7a3299597e1f",
   "metadata": {},
   "outputs": [],
   "source": [
    "#Loading the model using the path to the weights\n",
    "model = YOLO('../models/weights/last.pt')"
   ]
  },
  {
   "cell_type": "markdown",
   "id": "9c219d92-f9b0-47ee-aaa0-86caf53af316",
   "metadata": {},
   "source": [
    "Training the model\n",
    "\n",
    "- We specify dropout to avoid overfitting\n",
    "<br>\n",
    "- Cache means loading the dataset images to RAM which increases the training speed\n",
    "<br>\n",
    "- cos_lr is set to True to adjust the learning rate for better convergence\n",
    "<br>\n",
    "- close_mosaic=10 means that in the last 10 epochs we disable mosaic data augmentation (combining images together to form a bigger image)"
   ]
  },
  {
   "cell_type": "code",
   "execution_count": null,
   "id": "e22442d9-35de-4111-b6b4-2a00724dfdcd",
   "metadata": {},
   "outputs": [],
   "source": [
    "model.train(data='config.yaml',epochs=15,batch=64, cache=True,cos_lr=True, close_mosaic=10)"
   ]
  }
 ],
 "metadata": {
  "kernelspec": {
   "display_name": "Python 3 (ipykernel)",
   "language": "python",
   "name": "python3"
  },
  "language_info": {
   "codemirror_mode": {
    "name": "ipython",
    "version": 3
   },
   "file_extension": ".py",
   "mimetype": "text/x-python",
   "name": "python",
   "nbconvert_exporter": "python",
   "pygments_lexer": "ipython3",
   "version": "3.11.5"
  }
 },
 "nbformat": 4,
 "nbformat_minor": 5
}
