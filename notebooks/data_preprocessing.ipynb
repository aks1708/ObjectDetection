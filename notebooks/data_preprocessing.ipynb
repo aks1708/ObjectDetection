{
 "cells": [
  {
   "cell_type": "code",
   "execution_count": null,
   "id": "c690f47c-a5f7-48d5-b857-763765759911",
   "metadata": {},
   "outputs": [],
   "source": [
    "#Adding directory so that we can import 'source' which is a package in this project\n",
    "import sys\n",
    "import os\n",
    "path = os.getcwd().replace('/notebooks','')\n",
    "sys.path.append(path) "
   ]
  },
  {
   "cell_type": "code",
   "execution_count": null,
   "id": "c382f812-a6b4-4601-b71b-e685aff66394",
   "metadata": {},
   "outputs": [],
   "source": [
    "from source.data import data_modifier\n",
    "import shutil\n",
    "import numpy as np"
   ]
  },
  {
   "cell_type": "code",
   "execution_count": null,
   "id": "9efefdad-72ff-4903-b25c-8e14316b6c6c",
   "metadata": {},
   "outputs": [],
   "source": [
    "splits = ['train','train_val','val','test']\n",
    "for split in splits:\n",
    "    data_modifier.create_image_split_directory(split)\n",
    "    data_modifier.create_label_directory(split)"
   ]
  },
  {
   "cell_type": "markdown",
   "id": "9012c15e-2639-40cd-8716-a7a7b7a974ff",
   "metadata": {},
   "source": [
    "The training and training validation sizes have over 20000 images and around 45000 images respectively. To reduce training time and memory issues, we take a subset of these data splits for fine tuning."
   ]
  },
  {
   "cell_type": "code",
   "execution_count": null,
   "id": "1c4c24a6-cbfb-4d4c-a806-08fd1208866e",
   "metadata": {},
   "outputs": [],
   "source": [
    "#Removing the sample_train and sample_val images and labels directory \n",
    "#Later in the code we take a subset of the data so we want to ensure these directories don't exist.\n",
    "\n",
    "!rm -r ../data/processed/images/sample_train ../data/processed/images/sample_val\n",
    "!rm -r ../data/processed/labels/sample_train ../data/processed/labels/sample_val"
   ]
  },
  {
   "cell_type": "code",
   "execution_count": null,
   "id": "f3ac22e7-5d55-416f-8cc2-d98f8a8396bf",
   "metadata": {},
   "outputs": [],
   "source": [
    "!mkdir ../data/processed/images/sample_train ../data/processed/images/sample_val\n",
    "!mkdir ../data/processed/labels/sample_train ../data/processed/labels/sample_val"
   ]
  },
  {
   "cell_type": "code",
   "execution_count": null,
   "id": "92141011-6f87-4718-ac26-5b8cc65c76e6",
   "metadata": {},
   "outputs": [],
   "source": [
    "#In this block, we get a subset of the training and training validation sets. Using all the images creates a memory issue and slow training time\n",
    "\n",
    "np.random.seed(0)\n",
    "\n",
    "train_size = len(os.listdir('../data/processed/images/train'))\n",
    "train_val_size = len(os.listdir('../data/processed/images/train_val'))\n",
    "\n",
    "\n",
    "#Here we have taken 7.5% of the training data and 1% of the training validation set\n",
    "train_indices = np.random.choice(range(0, train_size), size=int(0.075*train_size), replace=False)\n",
    "train_val_indices = np.random.choice(range(0, train_val_size), size=int(0.01*train_val_size), replace=False)\n",
    "\n",
    "train_subset = [os.listdir('../data/processed/images/train')[i] for i in train_indices]\n",
    "train_val_subset = [os.listdir('../data/processed/images/train_val')[i] for i in train_val_indices]"
   ]
  },
  {
   "cell_type": "code",
   "execution_count": null,
   "id": "3fa3e339-a371-4921-9e16-a395b0a9a280",
   "metadata": {},
   "outputs": [],
   "source": [
    "#Copying the randomly selected training images to sample_train\n",
    "for filename in train_subset:\n",
    "    shutil.copy('../data/processed/images/train/{}'.format(filename), '../data/processed/images/sample_train/{}'.format(filename))"
   ]
  },
  {
   "cell_type": "code",
   "execution_count": null,
   "id": "c84fe811-62bd-4c81-8db8-f16dc10d1a1d",
   "metadata": {},
   "outputs": [],
   "source": [
    "#Copying the randomly selected training_validation images to sample_val\n",
    "for filename in train_val_subset:\n",
    "    shutil.copy('../data/processed/images/train_val/{}'.format(filename), '../data/processed/images/sample_val/{}'.format(filename))"
   ]
  },
  {
   "cell_type": "code",
   "execution_count": null,
   "id": "7113b066-b42a-4000-93c7-63f93e5cbdfa",
   "metadata": {},
   "outputs": [],
   "source": [
    "#Creating the label txt files for each image in our training and training validation subset\n",
    "data_modifier.create_label_directory('sample_train')\n",
    "data_modifier.create_label_directory('sample_val')"
   ]
  }
 ],
 "metadata": {
  "kernelspec": {
   "display_name": "Python 3 (ipykernel)",
   "language": "python",
   "name": "python3"
  },
  "language_info": {
   "codemirror_mode": {
    "name": "ipython",
    "version": 3
   },
   "file_extension": ".py",
   "mimetype": "text/x-python",
   "name": "python",
   "nbconvert_exporter": "python",
   "pygments_lexer": "ipython3",
   "version": "3.11.7"
  }
 },
 "nbformat": 4,
 "nbformat_minor": 5
}
