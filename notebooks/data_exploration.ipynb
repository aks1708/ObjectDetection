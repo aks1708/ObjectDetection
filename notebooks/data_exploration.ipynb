{
 "cells": [
  {
   "cell_type": "code",
   "execution_count": null,
   "id": "dc799ad2-4ca5-4f29-8b5c-a960a3fa873c",
   "metadata": {},
   "outputs": [],
   "source": [
    "#Adding directory so that we can import 'source' which is a package in this project\n",
    "import sys\n",
    "import os\n",
    "path = os.getcwd().replace('/notebooks','')\n",
    "sys.path.append(path) "
   ]
  },
  {
   "cell_type": "code",
   "execution_count": null,
   "id": "975bf3f7-24d4-4d5b-8d50-f55e1d42d966",
   "metadata": {},
   "outputs": [],
   "source": [
    "import os\n",
    "import numpy as np\n",
    "\n",
    "from pymatreader import read_mat\n",
    "\n",
    "import matplotlib.pyplot as plt\n",
    "import cv2\n",
    "\n",
    "from source.utils import utils"
   ]
  },
  {
   "cell_type": "code",
   "execution_count": null,
   "id": "ade8dbd1-6d73-4eed-b703-aada9b43884b",
   "metadata": {},
   "outputs": [],
   "source": [
    "#To get a feel for the task at hand, let us take an image and understand its annotation file and the bounding boxes\n",
    "\n",
    "filename = 'n00000000_39.JPEG'\n",
    "\n",
    "#Reading the annotation file\n",
    "annotation = read_mat('../data/raw/Annotations/{}.mat'.format(filename.split('.')[0]))\n",
    "\n",
    "#Reading the Image\n",
    "image = cv2.imread('../data/raw/Images/{}'.format(filename))\n",
    "\n",
    "\n",
    "#Fetching the coordinates of the bounding boxes \n",
    "coordinates = annotation['record']['objects']['bbox']\n",
    "\n",
    "#Drawing the boxes into the image\n",
    "for coordinate in coordinates:\n",
    "    cv2.rectangle(image, (int(coordinate[0]),int(coordinate[-1])), (int(coordinate[2]),int(coordinate[1])), color=(255, 0, 0), thickness=2)\n",
    "\n",
    "plt.imshow(image) #Displaying the image"
   ]
  },
  {
   "cell_type": "code",
   "execution_count": null,
   "id": "13ea643e-e0cd-42de-89a3-77f551c62439",
   "metadata": {},
   "outputs": [],
   "source": [
    "#Since there are a total of 100 categories, we may want to understand what objects are most popular in the various dataset splits\n",
    "\n",
    "#In this example we get the top classes present in the validation split. Other splits are 'train', 'train_val', 'test'\n",
    "utils.get_class_distribution('val')"
   ]
  }
 ],
 "metadata": {
  "kernelspec": {
   "display_name": "Python 3 (ipykernel)",
   "language": "python",
   "name": "python3"
  },
  "language_info": {
   "codemirror_mode": {
    "name": "ipython",
    "version": 3
   },
   "file_extension": ".py",
   "mimetype": "text/x-python",
   "name": "python",
   "nbconvert_exporter": "python",
   "pygments_lexer": "ipython3",
   "version": "3.11.5"
  }
 },
 "nbformat": 4,
 "nbformat_minor": 5
}
