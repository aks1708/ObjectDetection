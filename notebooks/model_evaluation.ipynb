{
 "cells": [
  {
   "cell_type": "code",
   "execution_count": null,
   "id": "5cdf2607-e1d0-4f3f-acd4-71dac60dab51",
   "metadata": {},
   "outputs": [],
   "source": [
    "from ultralytics import YOLO\n",
    "import torch\n",
    "import os\n",
    "import numpy as np"
   ]
  },
  {
   "cell_type": "code",
   "execution_count": null,
   "id": "f0f7c346-c323-4140-af35-b1c351df9c76",
   "metadata": {},
   "outputs": [],
   "source": [
    "#Loading the model that was fine tuned by fetching the weights \n",
    "model = YOLO('../models/weights/last.pt')"
   ]
  },
  {
   "cell_type": "code",
   "execution_count": null,
   "id": "b421b023-f291-4f99-9852-fd78f48a44de",
   "metadata": {},
   "outputs": [],
   "source": [
    "#Setting up the MPS for GPU use\n",
    "if torch.backends.mps.is_available():\n",
    "    mps_device = torch.device(\"mps\")\n",
    "else:\n",
    "    print (\"MPS device not found.\")"
   ]
  },
  {
   "cell_type": "code",
   "execution_count": null,
   "id": "f5afaa33-664c-4e02-aec9-47a340ee74e7",
   "metadata": {},
   "outputs": [],
   "source": [
    "#The test split is large so we just want to obtain a subset to use for evaluation\n",
    "\n",
    "np.random.seed(1)\n",
    "\n",
    "test_size = len(os.listdir('../data/processed/images/test'))\n",
    "test_indices = np.random.choice(range(0, test_size), size=int(0.003*test_size), replace=False)\n",
    "\n",
    "test_path = '../data/processed/images/test/'\n",
    "test_subset = [test_path+os.listdir(test_path)[i] for i in test_indices]"
   ]
  },
  {
   "cell_type": "code",
   "execution_count": null,
   "id": "102de078-8536-46f7-85b7-c1a5b19ab88b",
   "metadata": {},
   "outputs": [],
   "source": [
    "#Adding the model to the GPU\n",
    "model.to(mps_device)\n",
    "\n",
    "#results is a list of dictionaries with various properties such as the probability and the bounding box coordinates\n",
    "results = model(test_subset)\n",
    "for result in results:\n",
    "    result.show()  # Display images with their predictions to screen"
   ]
  }
 ],
 "metadata": {
  "kernelspec": {
   "display_name": "Python 3 (ipykernel)",
   "language": "python",
   "name": "python3"
  },
  "language_info": {
   "codemirror_mode": {
    "name": "ipython",
    "version": 3
   },
   "file_extension": ".py",
   "mimetype": "text/x-python",
   "name": "python",
   "nbconvert_exporter": "python",
   "pygments_lexer": "ipython3",
   "version": "3.11.5"
  }
 },
 "nbformat": 4,
 "nbformat_minor": 5
}
